{
 "cells": [
  {
   "cell_type": "markdown",
   "metadata": {},
   "source": [
    "# Q03\n",
    "\n",
    "This Jupyter notebook should answer the following Question:\n",
    "\n",
    "***How do patient movement patterns relate to the occurrence and severity of falls across different clinical departments and fall risk categories?***"
   ]
  },
  {
   "cell_type": "code",
   "execution_count": 43,
   "metadata": {},
   "outputs": [],
   "source": [
    "import pandas as pd \n",
    "import networkx as nx\n",
    "import matplotlib.pyplot as plt\n",
    "import plotly.graph_objects as go\n",
    "import math\n",
    "\n",
    "# Import helper functions\n",
    "import q2_helper  as helper\n",
    "\n",
    "\n",
    "pd.set_option('max_colwidth', None)\n"
   ]
  },
  {
   "cell_type": "code",
   "execution_count": 44,
   "metadata": {},
   "outputs": [],
   "source": [
    "# colors for graphs\n",
    "color_01 = '#1A3F6E'\n",
    "color_02 = '#105067'\n",
    "color_03 = '#56A6D3'   \n",
    "color_03_01 = '#02A5F5' \n",
    "color_04 = '#578494'\n",
    "\n",
    "color_dark = '#0A1C3E'\n",
    "color_contrast1 = '#E0586C'\n",
    "color_contrast2 = '#F25E4D'\n",
    "color_contrast3 = '#00E45C'\n"
   ]
  },
  {
   "cell_type": "markdown",
   "metadata": {},
   "source": [
    "# Filters and graph Settings:"
   ]
  },
  {
   "cell_type": "code",
   "execution_count": 45,
   "metadata": {},
   "outputs": [],
   "source": [
    "topThreeDep = pd.read_pickle(\"data/out/top_three_dep.pkl\")"
   ]
  },
  {
   "cell_type": "code",
   "execution_count": 46,
   "metadata": {},
   "outputs": [
    {
     "data": {
      "text/plain": [
       "5            Neurology\n",
       "8       Intensive Care\n",
       "10    Gastroenterology\n",
       "Name: department, dtype: object"
      ]
     },
     "execution_count": 46,
     "metadata": {},
     "output_type": "execute_result"
    }
   ],
   "source": [
    "topThreeDep['department']"
   ]
  },
  {
   "cell_type": "code",
   "execution_count": 47,
   "metadata": {},
   "outputs": [],
   "source": [
    "# Configurations: Adjust these settings as needed for your analysis\n",
    "\n",
    "# Department of Interest\n",
    "department_of_interest = 'Geriatrics'  # Specify the department of interest for synchronization of movements\n",
    "\n",
    "# Fall Settings\n",
    "fall_in_dep = True  # Set to True to include falls in the department of interest, False otherwise\n",
    "\n",
    "\n",
    "# Scope of the Analysis\n",
    "dep_scope = True  # Set to True to consider only movements within the department of interest, False otherwise\n",
    "movements_before = 2  # Number of movements to consider before the point of interest\n",
    "movements_after = 0   # Number of movements to consider after the point of interest\n",
    "# this never counts the other falls, but only the movements between the falls\n",
    "\n",
    "# Filters (apply only if fall_in_dep is True)\n",
    "\n",
    "# Injury Grade Filter\n",
    "injury_grade_filter = False  # Set to True to filter falls by severity in the department of interest\n",
    "\n",
    "# Severity of Falls (Used only if injury_grade_filter is True)\n",
    "selected_injury_grade = 3  # Severity level of falls to include in the analysis\n",
    "# Options: 'keine'=0, 'gering'=1, 'mäßig'=2, 'schwer'=3\n",
    "\n",
    "# Threshold for percentage in path\n",
    "threshold_falls = False  # set true if you want to filter out all paths that were taken less than the threshold\n",
    "\n",
    "# Threshold for percentage in path (Used only if threshold_falls is True)\n",
    "percentage_threshold = 2  # Threshold for percentage of falls in the department of interest\n",
    "\n",
    "only_first = False  # set to True if you only want to consider the first fall in the department of interest\n",
    "\n",
    "#------------------------------------------------------------\n",
    "# Generate Point of Interest (Do not change)\n",
    "#------------------------------------------------------------\n",
    "\n",
    "point_of_interest = '#FALL_' + department_of_interest + '#' if fall_in_dep else department_of_interest"
   ]
  },
  {
   "cell_type": "markdown",
   "metadata": {},
   "source": [
    "# Imports"
   ]
  },
  {
   "cell_type": "code",
   "execution_count": null,
   "metadata": {},
   "outputs": [],
   "source": [
    "\n",
    "\n"
   ]
  },
  {
   "cell_type": "markdown",
   "metadata": {},
   "source": [
    "# DF Preparations"
   ]
  },
  {
   "cell_type": "markdown",
   "metadata": {},
   "source": []
  },
  {
   "cell_type": "code",
   "execution_count": 48,
   "metadata": {},
   "outputs": [],
   "source": [
    "nBew = pd.read_pickle(\"data/src_pkl/nBew.pkl\")\n",
    "fallD = pd.read_pickle(\"data/src_pkl/sturzD.pkl\")"
   ]
  },
  {
   "cell_type": "markdown",
   "metadata": {},
   "source": [
    "## generate movements table"
   ]
  },
  {
   "cell_type": "code",
   "execution_count": 49,
   "metadata": {},
   "outputs": [],
   "source": [
    "# get all patients with fall incident\n",
    "fallers = list(fallD['c_pseudonym'].unique())\n",
    "\n",
    "# Filter the DataFrame to include only fallers\n",
    "fallers_data = nBew[nBew['c_pseudonym'].isin(fallers)]\n",
    "\n",
    "\n",
    "# Step 1: Sort by 'c_pseudonym' and 'from_time'\n",
    "fallers_data_sorted = fallers_data.sort_values('c_lfdnr')\n",
    "\n",
    "# Step 2: Group by 'c_pseudonym' and aggregate using a custom function\n",
    "movements = fallers_data_sorted.groupby('c_pseudonym').agg({\n",
    "    'c_orgfa': lambda x: list(x),\n",
    "    'from_time': lambda x: list(x),\n",
    "    'till_time': lambda x: list(x)\n",
    "}).reset_index()"
   ]
  },
  {
   "cell_type": "code",
   "execution_count": 50,
   "metadata": {},
   "outputs": [],
   "source": [
    "\n",
    "# Rename columns to match your expected output\n",
    "movements.columns = [\"c_pseudonym\", \"movement\", \"from_time\", \"till_time\"]"
   ]
  },
  {
   "cell_type": "code",
   "execution_count": 51,
   "metadata": {},
   "outputs": [],
   "source": [
    "movements['number_of_movements'] = movements['movement'].apply(len)"
   ]
  },
  {
   "cell_type": "code",
   "execution_count": 52,
   "metadata": {},
   "outputs": [],
   "source": [
    "# add first department to df\n",
    "movements['fist_dep'] = movements['movement'].apply(lambda x: x[0])"
   ]
  },
  {
   "cell_type": "markdown",
   "metadata": {},
   "source": [
    "## gnereate falls_per case\n",
    "\n",
    "contains the falls and times of falls per case"
   ]
  },
  {
   "cell_type": "code",
   "execution_count": 53,
   "metadata": {},
   "outputs": [],
   "source": [
    "# adjust Grad der verletzung: map 'keine' to 0, 'gering' to 1, 'mäßig' to 2, 'schwer' to 3\n",
    "fallD['Grad der Verletzung'] = fallD['Grad der Verletzung'].map({'keine': 0, 'gering': 1, 'mäßig': 2, 'schwer': 3})\n"
   ]
  },
  {
   "cell_type": "code",
   "execution_count": 54,
   "metadata": {},
   "outputs": [],
   "source": [
    "fallD = fallD.sort_values('Sturz_datetime', ascending=True)\n",
    "\n",
    "falls_per_case = fallD.groupby('c_pseudonym').agg({\n",
    "    'Fachliche Zuweisung': list,\n",
    "    'Sturz_datetime': list,\n",
    "    'Grad der Verletzung': list\n",
    "}).reset_index()"
   ]
  },
  {
   "cell_type": "code",
   "execution_count": 55,
   "metadata": {},
   "outputs": [],
   "source": [
    "falls_per_case['number_of_falls'] = falls_per_case['Fachliche Zuweisung'].apply(len)\n",
    "falls_per_case = falls_per_case.sort_values('number_of_falls', ascending=False)"
   ]
  },
  {
   "cell_type": "markdown",
   "metadata": {},
   "source": [
    "##  Build Movement_falls\n",
    "\n",
    "contains all movements and falls with times per case"
   ]
  },
  {
   "cell_type": "code",
   "execution_count": 56,
   "metadata": {},
   "outputs": [],
   "source": [
    "movements_falls = pd.merge(movements, falls_per_case, on='c_pseudonym')\n",
    "movements_falls = movements_falls.rename(columns={'Fachliche Zuweisung':'fall_department','Sturz_datetime':'fall_time','Grad der Verletzung':'injury_grade'})"
   ]
  },
  {
   "cell_type": "markdown",
   "metadata": {},
   "source": [
    "### ajustment of movements_falls"
   ]
  },
  {
   "cell_type": "code",
   "execution_count": 57,
   "metadata": {},
   "outputs": [],
   "source": [
    "#deletes all movements that are to the same department (e.g. from department a to department a)\n",
    "movements_falls = movements_falls.apply(helper.neighbours_checker,axis=1)\n"
   ]
  },
  {
   "cell_type": "code",
   "execution_count": 58,
   "metadata": {},
   "outputs": [],
   "source": [
    "# gernerates column with index of fall in movements list ( all x is at the yth department of the index in the movements list)\n",
    "movements_falls['index_of_fall'] = movements_falls.apply(helper.find_index_of_fall,axis=1)\n"
   ]
  },
  {
   "cell_type": "code",
   "execution_count": 59,
   "metadata": {},
   "outputs": [],
   "source": [
    "# deletes all falls that are at the same index as the prior fall ( e.g. fall 1 and fall 2 are at the same department without any movement in between)\n",
    "movements_falls = movements_falls.apply(helper.condense_falls,axis=1)"
   ]
  },
  {
   "cell_type": "code",
   "execution_count": 60,
   "metadata": {},
   "outputs": [
    {
     "name": "stdout",
     "output_type": "stream",
     "text": [
      "number of falls of patients never being on that station:  133\n"
     ]
    }
   ],
   "source": [
    "# count number of falls that occure in a department where the patient never was (according to the movement data)\n",
    "print('number of falls of patients never being on that station: ',(movements_falls['index_of_fall'] == 'NaN').sum())\n"
   ]
  },
  {
   "cell_type": "code",
   "execution_count": 61,
   "metadata": {},
   "outputs": [],
   "source": [
    "movements_falls_nan = movements_falls[movements_falls['index_of_fall'] == 'NaN']"
   ]
  },
  {
   "cell_type": "code",
   "execution_count": 62,
   "metadata": {},
   "outputs": [],
   "source": [
    "# delete all cases in which at least one fall occured in a department where the patient never was (according to the movement data)\n",
    "movements_falls = movements_falls[movements_falls['index_of_fall'] != 'NaN']"
   ]
  },
  {
   "cell_type": "code",
   "execution_count": 63,
   "metadata": {},
   "outputs": [],
   "source": [
    "movements_falls['dep_and_falls'] = movements_falls.apply(helper.fall_integrator,axis=1)"
   ]
  },
  {
   "cell_type": "markdown",
   "metadata": {},
   "source": [
    "## apply filters for graph"
   ]
  },
  {
   "cell_type": "code",
   "execution_count": 64,
   "metadata": {},
   "outputs": [],
   "source": [
    "# filter column 'dep_and_falls' of movements_falls for the point of interest\n",
    "movements_falls = movements_falls[movements_falls['dep_and_falls'].apply(lambda x: point_of_interest in x)]\n"
   ]
  },
  {
   "cell_type": "code",
   "execution_count": 65,
   "metadata": {},
   "outputs": [],
   "source": [
    "# todo severity filter\n",
    "if injury_grade_filter:\n",
    "    if not fall_in_dep:\n",
    "        print('nothing done, only works when looking at falls,')\n",
    "        raise Exception(\"POI is not a fall department, please set injury_grade_filter = False \")\n",
    "    else: \n",
    "        movements_falls['injury_grades'] = movements_falls.apply(lambda row: helper.find_fall_severities(row,department_of_interest),axis=1)\n",
    "\n",
    "        bef = movements_falls.shape[0]\n",
    "\n",
    "        movements_falls = movements_falls[movements_falls['injury_grades'].apply(lambda x: selected_injury_grade in x)]\n",
    "\n",
    "        #movements_falls = movements_falls[selected_injury_grade in movements_falls[\"injury_grades\"]]\n",
    "        print (bef- movements_falls.shape[0], ' falls eliminated due to wrong level, ', movements_falls.shape[0], 'falls left')\n"
   ]
  },
  {
   "cell_type": "code",
   "execution_count": 66,
   "metadata": {},
   "outputs": [],
   "source": [
    "movements_falls['dep_and_falls'].to_pickle(\"data/test/dep_and_falls.pkl\")"
   ]
  },
  {
   "cell_type": "code",
   "execution_count": null,
   "metadata": {},
   "outputs": [],
   "source": [
    "# filter for scope of analysis\n",
    "if dep_scope:\n",
    "    movements_falls['dep_and_falls_scope'] = movements_falls.apply(lambda row: helper.fall_scope_filter(row['dep_and_falls'],point_of_interest,movements_before,movements_after),axis=1)\n",
    "else:\n",
    "    movements_falls['dep_and_falls_scope'] = movements_falls['dep_and_falls']"
   ]
  },
  {
   "cell_type": "code",
   "execution_count": 68,
   "metadata": {},
   "outputs": [],
   "source": [
    "if only_first:\n",
    "    movements_falls['dep_and_falls_scope'] = movements_falls.apply(lambda row: helper.only_first_falls(row['dep_and_falls_scope'],point_of_interest),axis=1)"
   ]
  },
  {
   "cell_type": "code",
   "execution_count": 69,
   "metadata": {},
   "outputs": [],
   "source": [
    "# add start and end element to each list in 'dep_and_falls_scope'\n",
    "movements_falls['dep_and_falls_scope'] = movements_falls['dep_and_falls_scope'].apply(lambda x: ['*START*'] + x + ['*END*'])"
   ]
  },
  {
   "cell_type": "code",
   "execution_count": 70,
   "metadata": {},
   "outputs": [],
   "source": [
    "movements_falls2  = movements_falls[movements_falls['movement'].apply(lambda x: len(x) == 3)]"
   ]
  },
  {
   "cell_type": "code",
   "execution_count": 72,
   "metadata": {},
   "outputs": [],
   "source": [
    "movements_falls['graph_tuples'] = movements_falls['dep_and_falls_scope'].apply(helper.tuple_builder)"
   ]
  },
  {
   "cell_type": "code",
   "execution_count": 73,
   "metadata": {},
   "outputs": [],
   "source": [
    "graph_tuples = movements_falls['graph_tuples'].explode().dropna()"
   ]
  },
  {
   "cell_type": "code",
   "execution_count": 74,
   "metadata": {},
   "outputs": [],
   "source": [
    "filtered_tuples = [tup for tup in graph_tuples if '*START*' in tup]"
   ]
  },
  {
   "cell_type": "code",
   "execution_count": 75,
   "metadata": {},
   "outputs": [
    {
     "name": "stdout",
     "output_type": "stream",
     "text": [
      "No Threshold set, all paths are included\n"
     ]
    }
   ],
   "source": [
    "graph_tuples = graph_tuples.value_counts().reset_index()\n",
    "# filter out all paths that were taken less than the threshold\n",
    "if threshold_falls:\n",
    "    l = len(graph_tuples)\n",
    "    #graph_tuples = graph_tuples[graph_tuples['count']>=len(filtered_tuples)*percentage_threshold]\n",
    "    graph_tuples = graph_tuples[graph_tuples['count']>=percentage_threshold]\n",
    "    print(l- len(graph_tuples),\" paths deleded due to thresholod filter. \", len(graph_tuples),\" paths left\")\n",
    "else:\n",
    "    print('No Threshold set, all paths are included')\n",
    "# rename columns\n",
    "graph_tuples = graph_tuples.rename(columns={'graph_tuples':'tuple'})"
   ]
  },
  {
   "cell_type": "code",
   "execution_count": 76,
   "metadata": {},
   "outputs": [],
   "source": [
    "\n",
    "# Function to update each tuple with count\n",
    "def update_tuple(row):\n",
    "    return row['tuple'] + (row['count'],)\n",
    "\n",
    "# Apply the function to each row\n",
    "graph_tuples['tuple'] = graph_tuples.apply(lambda row: update_tuple(row), axis=1)\n"
   ]
  },
  {
   "cell_type": "code",
   "execution_count": 77,
   "metadata": {},
   "outputs": [],
   "source": [
    "# save graph_tuples to pkl\n",
    "graph_tuples.to_pickle('data/out/graph_tuples.pkl')"
   ]
  },
  {
   "cell_type": "markdown",
   "metadata": {},
   "source": [
    "# Plotting\n",
    "\n",
    "<span style=\"color:orange\"> \n",
    "\n",
    "## Note, the following graph is static, if you wish to have a dynamic graph, please run the 'Q_02_graph_mover.py' file\n",
    "</span>"
   ]
  },
  {
   "cell_type": "code",
   "execution_count": null,
   "metadata": {},
   "outputs": [],
   "source": [
    "\n",
    "\n"
   ]
  },
  {
   "cell_type": "code",
   "execution_count": 78,
   "metadata": {},
   "outputs": [],
   "source": [
    "# generate directed graph \n",
    "G = nx.DiGraph()\n",
    "\n",
    "# add nodes and edges\n",
    "edges = graph_tuples['tuple']\n",
    "G.add_weighted_edges_from(edges)\n",
    "\n",
    "# define special nodes\n",
    "start_nodes = ['*START*']\n",
    "end_nodes = ['*END*']\n",
    "orange_nodes = [node for node in G.nodes() if node.startswith('#')]\n",
    "grey_nodes = [node for node in G.nodes() if node.startswith('(')]"
   ]
  },
  {
   "cell_type": "code",
   "execution_count": 79,
   "metadata": {},
   "outputs": [],
   "source": [
    "# add graph layout\n",
    "\n",
    "#pos = nx.circular_layout(G) # good\n",
    "#pos = nx.shell_layout(G) # good\n",
    "pos = nx.nx_agraph.graphviz_layout(G)#prog='neato')  \n",
    "# pos = nx.spring_layout(G, k=0.15, iterations=20) \n",
    "\n",
    "# Manually set positions for *START* and *END* nodes\n",
    "# pos['*START*'] = (0, 0.5)  # Example position for *START*\n",
    "# pos['*END*'] = (, 0.5)  # Example position for *END* (x_max should be computed as maximum x coordinate)\n",
    "\n"
   ]
  },
  {
   "cell_type": "code",
   "execution_count": 80,
   "metadata": {},
   "outputs": [],
   "source": [
    "# add edge weights and labels\n",
    "\n",
    "# Calculate edge widths based on weights and normalize to range [1, 10]\n",
    "edge_weights = [d['weight'] for u, v, d in G.edges(data=True)]\n",
    "min_weight = min(edge_weights)\n",
    "max_weight = max(edge_weights)\n",
    "#edge_widths = [1 + (9 * (d['weight'] - min_weight) / (max_weight - min_weight)) for u, v, d in G.edges(data=True)]"
   ]
  },
  {
   "cell_type": "code",
   "execution_count": 81,
   "metadata": {},
   "outputs": [
    {
     "data": {
      "image/png": "[encoded data removed]",
      "text/plain": [
       "<Figure size 1200x700 with 1 Axes>"
      ]
     },
     "metadata": {},
     "output_type": "display_data"
    }
   ],
   "source": [
    "\n",
    "# plot graph\n",
    "plt.figure(figsize=(12, 7))  # Set the size of the plot\n",
    "nx.draw(G, pos, with_labels=True, node_size=1500, node_color='lightblue', font_size=10, font_weight='bold', arrows=True)\n",
    "#nx.draw(G, pos, with_labels=True, node_size=1500, node_color='lightblue', font_size=10, font_weight='bold', arrows=True, width=edge_widths, connectionstyle='arc3,rad=0.2')\n",
    "\n",
    "\n",
    "\n",
    "# with labeled edges\n",
    "edge_labels = {(u, v): d['weight'] for u, v, d in G.edges(data=True)}\n",
    "nx.draw_networkx_edge_labels(G, pos, edge_labels=edge_labels, font_color='black')\n",
    "\n",
    "\n",
    "# Hebe Start- und Endknoten hervor\n",
    "nx.draw_networkx_nodes(G, pos, nodelist=start_nodes, node_color='green', node_size=1500)\n",
    "nx.draw_networkx_nodes(G, pos, nodelist=end_nodes, node_color='red', node_size=1500)\n",
    "\n",
    "# Färbe Knoten, die mit '#' beginnen, orange\n",
    "nx.draw_networkx_nodes(G, pos, nodelist=orange_nodes, node_color='orange', node_size=1500)\n",
    "\n",
    "nx.draw_networkx_nodes(G, pos, nodelist=grey_nodes, node_color='grey', node_size=1500)\n",
    "\n",
    "\n",
    "# Zeige den Graphen\n",
    "plt.title('Gerichteter Graph')\n",
    "plt.show()\n"
   ]
  },
  {
   "cell_type": "code",
   "execution_count": 82,
   "metadata": {},
   "outputs": [],
   "source": [
    "st = graph_tuples.copy()\n",
    "st[[\"source\",\"target\",\"count2\"]] = pd.DataFrame(st['tuple'].tolist(), index=st.index)\n",
    "st = st.drop(columns=['tuple','count2'])"
   ]
  },
  {
   "cell_type": "code",
   "execution_count": 83,
   "metadata": {},
   "outputs": [],
   "source": [
    "config = {\n",
    "  'toImageButtonOptions': {\n",
    "    'format': 'png', # one of png, svg, jpeg, webp\n",
    "    'filename': 'custom_image',\n",
    "    'height': 500,\n",
    "    'width': 1500,\n",
    "    'scale':6 # Multiply title/legend/axis/canvas sizes by this factor\n",
    "  }\n",
    "}"
   ]
  },
  {
   "cell_type": "code",
   "execution_count": 84,
   "metadata": {},
   "outputs": [
    {
     "name": "stdout",
     "output_type": "stream",
     "text": [
      "Movements of department Geriatrics with fall related injury level: severe\n"
     ]
    },
    {
     "data": {
      "application/vnd.plotly.v1+json": {
       "config": {
        "plotlyServerURL": "https://plot.ly",
        "toImageButtonOptions": {
         "filename": "custom_image",
         "format": "png",
         "height": 500,
         "scale": 6,
         "width": 1500
        }
       },
       "data": [
        {
         "link": {
          "arrowlen": 20,
          "color": [
           "rgba(86, 166, 211, 0.6)",
           "rgba(224, 88, 108, 0.6)",
           "rgba(211, 211, 211, 0.6)",
           "rgba(10, 28, 62, 0.6)",
           "rgba(211, 211, 211, 0.6)",
           "rgba(86, 166, 211, 0.6)",
           "rgba(86, 166, 211, 0.6)",
           "rgba(86, 166, 211, 0.6)",
           "rgba(86, 166, 211, 0.6)",
           "rgba(10, 28, 62, 0.6)",
           "rgba(211, 211, 211, 0.6)",
           "rgba(211, 211, 211, 0.6)",
           "rgba(211, 211, 211, 0.6)",
           "rgba(86, 166, 211, 0.6)",
           "rgba(86, 166, 211, 0.6)",
           "rgba(86, 166, 211, 0.6)",
           "rgba(86, 166, 211, 0.6)",
           "rgba(224, 88, 108, 0.6)",
           "rgba(211, 211, 211, 0.6)",
           "rgba(86, 166, 211, 0.6)",
           "rgba(224, 88, 108, 0.6)",
           "rgba(211, 211, 211, 0.6)",
           "rgba(86, 166, 211, 0.6)",
           "rgba(211, 211, 211, 0.6)",
           "rgba(86, 166, 211, 0.6)",
           "rgba(86, 166, 211, 0.6)",
           "rgba(211, 211, 211, 0.6)",
           "rgba(86, 166, 211, 0.6)",
           "rgba(10, 28, 62, 0.6)",
           "rgba(86, 166, 211, 0.6)",
           "rgba(86, 166, 211, 0.6)",
           "rgba(211, 211, 211, 0.6)",
           "rgba(86, 166, 211, 0.6)",
           "rgba(86, 166, 211, 0.6)",
           "rgba(86, 166, 211, 0.6)",
           "rgba(211, 211, 211, 0.6)",
           "rgba(86, 166, 211, 0.6)",
           "rgba(211, 211, 211, 0.6)",
           "rgba(86, 166, 211, 0.6)",
           "rgba(86, 166, 211, 0.6)",
           "rgba(10, 28, 62, 0.6)",
           "rgba(211, 211, 211, 0.6)",
           "rgba(86, 166, 211, 0.6)",
           "rgba(224, 88, 108, 0.6)",
           "rgba(86, 166, 211, 0.6)",
           "rgba(86, 166, 211, 0.6)",
           "rgba(86, 166, 211, 0.6)",
           "rgba(211, 211, 211, 0.6)",
           "rgba(10, 28, 62, 0.6)",
           "rgba(211, 211, 211, 0.6)",
           "rgba(211, 211, 211, 0.6)",
           "rgba(86, 166, 211, 0.6)",
           "rgba(86, 166, 211, 0.6)",
           "rgba(86, 166, 211, 0.6)",
           "rgba(211, 211, 211, 0.6)",
           "rgba(86, 166, 211, 0.6)",
           "rgba(86, 166, 211, 0.6)",
           "rgba(86, 166, 211, 0.6)",
           "rgba(86, 166, 211, 0.6)",
           "rgba(86, 166, 211, 0.6)",
           "rgba(86, 166, 211, 0.6)",
           "rgba(86, 166, 211, 0.6)",
           "rgba(86, 166, 211, 0.6)",
           "rgba(86, 166, 211, 0.6)",
           "rgba(86, 166, 211, 0.6)",
           "rgba(86, 166, 211, 0.6)",
           "rgba(86, 166, 211, 0.6)",
           "rgba(211, 211, 211, 0.6)",
           "rgba(86, 166, 211, 0.6)",
           "rgba(211, 211, 211, 0.6)",
           "rgba(86, 166, 211, 0.6)",
           "rgba(86, 166, 211, 0.6)",
           "rgba(211, 211, 211, 0.6)",
           "rgba(86, 166, 211, 0.6)",
           "rgba(211, 211, 211, 0.6)",
           "rgba(86, 166, 211, 0.6)",
           "rgba(86, 166, 211, 0.6)",
           "rgba(86, 166, 211, 0.6)",
           "rgba(86, 166, 211, 0.6)",
           "rgba(224, 88, 108, 0.6)",
           "rgba(86, 166, 211, 0.6)",
           "rgba(211, 211, 211, 0.6)",
           "rgba(86, 166, 211, 0.6)",
           "rgba(86, 166, 211, 0.6)",
           "rgba(86, 166, 211, 0.6)",
           "rgba(86, 166, 211, 0.6)",
           "rgba(86, 166, 211, 0.6)",
           "rgba(86, 166, 211, 0.6)",
           "rgba(86, 166, 211, 0.6)",
           "rgba(86, 166, 211, 0.6)",
           "rgba(86, 166, 211, 0.6)",
           "rgba(86, 166, 211, 0.6)",
           "rgba(86, 166, 211, 0.6)",
           "rgba(86, 166, 211, 0.6)",
           "rgba(224, 88, 108, 0.6)",
           "rgba(86, 166, 211, 0.6)",
           "rgba(86, 166, 211, 0.6)",
           "rgba(86, 166, 211, 0.6)",
           "rgba(86, 166, 211, 0.6)",
           "rgba(224, 88, 108, 0.6)",
           "rgba(86, 166, 211, 0.6)",
           "rgba(211, 211, 211, 0.6)",
           "rgba(86, 166, 211, 0.6)",
           "rgba(86, 166, 211, 0.6)",
           "rgba(86, 166, 211, 0.6)",
           "rgba(86, 166, 211, 0.6)",
           "rgba(86, 166, 211, 0.6)",
           "rgba(211, 211, 211, 0.6)",
           "rgba(211, 211, 211, 0.6)",
           "rgba(211, 211, 211, 0.6)",
           "rgba(211, 211, 211, 0.6)",
           "rgba(86, 166, 211, 0.6)",
           "rgba(86, 166, 211, 0.6)",
           "rgba(86, 166, 211, 0.6)",
           "rgba(86, 166, 211, 0.6)",
           "rgba(86, 166, 211, 0.6)",
           "rgba(211, 211, 211, 0.6)",
           "rgba(224, 88, 108, 0.6)",
           "rgba(86, 166, 211, 0.6)",
           "rgba(86, 166, 211, 0.6)",
           "rgba(86, 166, 211, 0.6)",
           "rgba(211, 211, 211, 0.6)",
           "rgba(86, 166, 211, 0.6)",
           "rgba(86, 166, 211, 0.6)",
           "rgba(86, 166, 211, 0.6)",
           "rgba(86, 166, 211, 0.6)",
           "rgba(224, 88, 108, 0.6)",
           "rgba(86, 166, 211, 0.6)",
           "rgba(86, 166, 211, 0.6)",
           "rgba(86, 166, 211, 0.6)",
           "rgba(211, 211, 211, 0.6)",
           "rgba(211, 211, 211, 0.6)",
           "rgba(86, 166, 211, 0.6)",
           "rgba(86, 166, 211, 0.6)",
           "rgba(211, 211, 211, 0.6)",
           "rgba(86, 166, 211, 0.6)",
           "rgba(86, 166, 211, 0.6)",
           "rgba(224, 88, 108, 0.6)",
           "rgba(86, 166, 211, 0.6)",
           "rgba(86, 166, 211, 0.6)",
           "rgba(86, 166, 211, 0.6)",
           "rgba(86, 166, 211, 0.6)",
           "rgba(211, 211, 211, 0.6)",
           "rgba(86, 166, 211, 0.6)",
           "rgba(224, 88, 108, 0.6)",
           "rgba(86, 166, 211, 0.6)",
           "rgba(86, 166, 211, 0.6)",
           "rgba(86, 166, 211, 0.6)",
           "rgba(86, 166, 211, 0.6)",
           "rgba(86, 166, 211, 0.6)",
           "rgba(86, 166, 211, 0.6)",
           "rgba(86, 166, 211, 0.6)",
           "rgba(86, 166, 211, 0.6)",
           "rgba(211, 211, 211, 0.6)",
           "rgba(86, 166, 211, 0.6)",
           "rgba(86, 166, 211, 0.6)",
           "rgba(86, 166, 211, 0.6)",
           "rgba(86, 166, 211, 0.6)",
           "rgba(86, 166, 211, 0.6)",
           "rgba(224, 88, 108, 0.6)",
           "rgba(86, 166, 211, 0.6)",
           "rgba(224, 88, 108, 0.6)",
           "rgba(86, 166, 211, 0.6)",
           "rgba(86, 166, 211, 0.6)",
           "rgba(86, 166, 211, 0.6)",
           "rgba(86, 166, 211, 0.6)",
           "rgba(86, 166, 211, 0.6)",
           "rgba(86, 166, 211, 0.6)",
           "rgba(86, 166, 211, 0.6)",
           "rgba(86, 166, 211, 0.6)",
           "rgba(86, 166, 211, 0.6)",
           "rgba(86, 166, 211, 0.6)",
           "rgba(86, 166, 211, 0.6)",
           "rgba(86, 166, 211, 0.6)",
           "rgba(86, 166, 211, 0.6)",
           "rgba(86, 166, 211, 0.6)",
           "rgba(86, 166, 211, 0.6)",
           "rgba(86, 166, 211, 0.6)",
           "rgba(86, 166, 211, 0.6)",
           "rgba(86, 166, 211, 0.6)",
           "rgba(86, 166, 211, 0.6)",
           "rgba(86, 166, 211, 0.6)",
           "rgba(86, 166, 211, 0.6)",
           "rgba(86, 166, 211, 0.6)",
           "rgba(86, 166, 211, 0.6)",
           "rgba(86, 166, 211, 0.6)",
           "rgba(86, 166, 211, 0.6)",
           "rgba(211, 211, 211, 0.6)",
           "rgba(86, 166, 211, 0.6)",
           "rgba(86, 166, 211, 0.6)",
           "rgba(211, 211, 211, 0.6)",
           "rgba(86, 166, 211, 0.6)",
           "rgba(86, 166, 211, 0.6)",
           "rgba(86, 166, 211, 0.6)",
           "rgba(10, 28, 62, 0.6)",
           "rgba(86, 166, 211, 0.6)",
           "rgba(86, 166, 211, 0.6)",
           "rgba(211, 211, 211, 0.6)",
           "rgba(86, 166, 211, 0.6)",
           "rgba(86, 166, 211, 0.6)",
           "rgba(86, 166, 211, 0.6)",
           "rgba(86, 166, 211, 0.6)",
           "rgba(86, 166, 211, 0.6)",
           "rgba(86, 166, 211, 0.6)",
           "rgba(86, 166, 211, 0.6)",
           "rgba(86, 166, 211, 0.6)",
           "rgba(211, 211, 211, 0.6)",
           "rgba(86, 166, 211, 0.6)",
           "rgba(224, 88, 108, 0.6)",
           "rgba(86, 166, 211, 0.6)",
           "rgba(86, 166, 211, 0.6)",
           "rgba(86, 166, 211, 0.6)",
           "rgba(86, 166, 211, 0.6)",
           "rgba(86, 166, 211, 0.6)",
           "rgba(86, 166, 211, 0.6)",
           "rgba(86, 166, 211, 0.6)",
           "rgba(86, 166, 211, 0.6)",
           "rgba(86, 166, 211, 0.6)",
           "rgba(86, 166, 211, 0.6)",
           "rgba(86, 166, 211, 0.6)",
           "rgba(86, 166, 211, 0.6)",
           "rgba(86, 166, 211, 0.6)",
           "rgba(86, 166, 211, 0.6)",
           "rgba(86, 166, 211, 0.6)",
           "rgba(86, 166, 211, 0.6)",
           "rgba(211, 211, 211, 0.6)",
           "rgba(211, 211, 211, 0.6)",
           "rgba(86, 166, 211, 0.6)",
           "rgba(86, 166, 211, 0.6)"
          ],
          "source": [
           0,
           1,
           2,
           3,
           4,
           5,
           6,
           7,
           8,
           3,
           4,
           4,
           4,
           9,
           6,
           0,
           10,
           1,
           11,
           12,
           1,
           4,
           7,
           4,
           13,
           13,
           4,
           6,
           3,
           14,
           6,
           4,
           9,
           15,
           7,
           4,
           16,
           4,
           17,
           18,
           3,
           4,
           19,
           1,
           6,
           10,
           9,
           4,
           3,
           2,
           4,
           10,
           0,
           5,
           4,
           0,
           6,
           9,
           6,
           6,
           8,
           5,
           10,
           9,
           8,
           9,
           6,
           4,
           14,
           4,
           20,
           15,
           21,
           17,
           4,
           6,
           5,
           22,
           6,
           1,
           13,
           2,
           7,
           8,
           8,
           10,
           7,
           23,
           14,
           9,
           24,
           8,
           7,
           25,
           1,
           0,
           8,
           14,
           10,
           26,
           0,
           2,
           22,
           0,
           5,
           14,
           5,
           2,
           4,
           4,
           4,
           15,
           7,
           12,
           0,
           5,
           2,
           26,
           8,
           6,
           23,
           4,
           14,
           14,
           9,
           12,
           1,
           7,
           12,
           13,
           2,
           11,
           17,
           14,
           2,
           17,
           7,
           1,
           8,
           9,
           7,
           14,
           4,
           6,
           1,
           27,
           13,
           12,
           24,
           28,
           7,
           0,
           6,
           11,
           9,
           27,
           9,
           22,
           0,
           29,
           18,
           1,
           13,
           15,
           6,
           20,
           12,
           7,
           20,
           24,
           7,
           20,
           9,
           13,
           30,
           30,
           24,
           9,
           18,
           20,
           27,
           22,
           12,
           15,
           31,
           13,
           9,
           4,
           25,
           23,
           2,
           23,
           13,
           18,
           3,
           32,
           7,
           2,
           13,
           16,
           33,
           15,
           18,
           5,
           7,
           19,
           2,
           23,
           1,
           19,
           19,
           9,
           12,
           22,
           34,
           0,
           10,
           12,
           6,
           33,
           10,
           10,
           20,
           22,
           17,
           2,
           2,
           16,
           19
          ],
          "target": [
           1,
           2,
           35,
           4,
           6,
           0,
           0,
           0,
           0,
           5,
           0,
           7,
           9,
           0,
           7,
           6,
           0,
           11,
           35,
           0,
           35,
           10,
           6,
           8,
           5,
           0,
           13,
           8,
           0,
           0,
           9,
           14,
           5,
           0,
           8,
           5,
           0,
           12,
           0,
           0,
           13,
           15,
           0,
           6,
           12,
           8,
           6,
           22,
           9,
           6,
           20,
           6,
           8,
           13,
           17,
           7,
           10,
           8,
           14,
           13,
           12,
           9,
           7,
           10,
           15,
           26,
           16,
           19,
           13,
           23,
           0,
           8,
           35,
           9,
           18,
           17,
           12,
           0,
           18,
           21,
           6,
           9,
           10,
           7,
           9,
           14,
           19,
           0,
           12,
           15,
           0,
           25,
           9,
           0,
           14,
           10,
           20,
           10,
           12,
           6,
           12,
           7,
           9,
           9,
           17,
           7,
           18,
           10,
           27,
           33,
           16,
           7,
           14,
           6,
           15,
           10,
           13,
           0,
           13,
           15,
           5,
           24,
           6,
           8,
           16,
           7,
           19,
           16,
           8,
           10,
           12,
           13,
           10,
           9,
           14,
           7,
           23,
           9,
           14,
           12,
           12,
           18,
           30,
           24,
           7,
           22,
           19,
           10,
           10,
           0,
           28,
           23,
           20,
           6,
           19,
           24,
           13,
           6,
           16,
           8,
           29,
           24,
           8,
           13,
           19,
           16,
           13,
           13,
           8,
           12,
           15,
           5,
           14,
           7,
           0,
           12,
           7,
           30,
           17,
           6,
           0,
           15,
           17,
           6,
           0,
           31,
           7,
           25,
           5,
           13,
           23,
           10,
           14,
           8,
           23,
           0,
           32,
           17,
           9,
           6,
           10,
           10,
           10,
           22,
           27,
           5,
           18,
           12,
           10,
           7,
           14,
           18,
           9,
           17,
           0,
           34,
           5,
           23,
           22,
           8,
           16,
           18,
           10,
           14,
           12,
           0,
           8,
           5,
           10
          ],
          "value": [
           468,
           400,
           378,
           349,
           87,
           81,
           77,
           55,
           54,
           51,
           48,
           45,
           34,
           33,
           32,
           30,
           29,
           28,
           26,
           25,
           24,
           21,
           20,
           20,
           19,
           19,
           18,
           17,
           16,
           15,
           13,
           13,
           13,
           12,
           10,
           10,
           10,
           9,
           8,
           8,
           8,
           8,
           7,
           6,
           6,
           6,
           6,
           6,
           6,
           6,
           5,
           5,
           5,
           5,
           5,
           5,
           5,
           5,
           4,
           4,
           4,
           4,
           4,
           4,
           4,
           4,
           4,
           4,
           3,
           3,
           3,
           3,
           3,
           3,
           3,
           3,
           3,
           3,
           3,
           3,
           3,
           3,
           3,
           3,
           3,
           3,
           3,
           3,
           2,
           2,
           2,
           2,
           2,
           2,
           2,
           2,
           2,
           2,
           2,
           2,
           2,
           2,
           2,
           2,
           2,
           2,
           2,
           2,
           2,
           2,
           2,
           2,
           2,
           2,
           2,
           2,
           2,
           2,
           2,
           2,
           2,
           2,
           2,
           2,
           2,
           2,
           1,
           1,
           1,
           1,
           1,
           1,
           1,
           1,
           1,
           1,
           1,
           1,
           1,
           1,
           1,
           1,
           1,
           1,
           1,
           1,
           1,
           1,
           1,
           1,
           1,
           1,
           1,
           1,
           1,
           1,
           1,
           1,
           1,
           1,
           1,
           1,
           1,
           1,
           1,
           1,
           1,
           1,
           1,
           1,
           1,
           1,
           1,
           1,
           1,
           1,
           1,
           1,
           1,
           1,
           1,
           1,
           1,
           1,
           1,
           1,
           1,
           1,
           1,
           1,
           1,
           1,
           1,
           1,
           1,
           1,
           1,
           1,
           1,
           1,
           1,
           1,
           1,
           1,
           1,
           1,
           1,
           1,
           1,
           1,
           1,
           1,
           1,
           1,
           1,
           1,
           1,
           1,
           1,
           1,
           1,
           1,
           1,
           1,
           1,
           1,
           1,
           1,
           1
          ]
         },
         "node": {
          "align": "left",
          "color": [
           "#56A6D3",
           "#E0586C",
           "lightgrey",
           "#0A1C3E",
           "lightgrey",
           "#56A6D3",
           "#56A6D3",
           "#56A6D3",
           "#56A6D3",
           "#56A6D3",
           "#56A6D3",
           "lightgrey",
           "#56A6D3",
           "#56A6D3",
           "#56A6D3",
           "#56A6D3",
           "#56A6D3",
           "#56A6D3",
           "#56A6D3",
           "#56A6D3",
           "#56A6D3",
           "lightgrey",
           "#56A6D3",
           "#56A6D3",
           "#56A6D3",
           "#56A6D3",
           "#E0586C",
           "#56A6D3",
           "#56A6D3",
           "#E0586C",
           "#56A6D3",
           "#56A6D3",
           "#56A6D3",
           "#56A6D3",
           "#56A6D3",
           "#0A1C3E"
          ],
          "label": [
           "Geriatrics",
           "#FALL_Geriatrics#",
           "(1)",
           "*START*",
           "(0)",
           "Emergency Medicine",
           "Physical Medicine",
           "Social Services",
           "Endocrinology",
           "Surgery",
           "Intensive Care",
           "(2)",
           "Nephrology",
           "Neurology",
           "Radiology",
           "Audiology / Phoniatrics",
           "Wound Care / Stoma Therapy",
           "Urology",
           "Gastroenterology",
           "Psychiatry",
           "Otorhinolaryngology",
           "(3)",
           "Anesthesiology",
           "Dermatology",
           "Oncology / Hematology",
           "Ophthalmology",
           "#FALL_Surgery#",
           "Radiation Oncology / Radiotherapy",
           "Unknown",
           "#FALL_Gastroenterology#",
           "Psychosomatic Medicine",
           "Oncology",
           "Gynecology",
           "Administration",
           "Rheumatology / Immunology",
           "*END*"
          ],
          "line": {
           "color": "black",
           "width": 0.5
          },
          "pad": 15,
          "thickness": 20
         },
         "type": "sankey"
        }
       ],
       "layout": {
        "font": {
         "size": 10
        },
        "template": {
         "data": {
          "bar": [
           {
            "error_x": {
             "color": "#2a3f5f"
            },
            "error_y": {
             "color": "#2a3f5f"
            },
            "marker": {
             "line": {
              "color": "#E5ECF6",
              "width": 0.5
             },
             "pattern": {
              "fillmode": "overlay",
              "size": 10,
              "solidity": 0.2
             }
            },
            "type": "bar"
           }
          ],
          "barpolar": [
           {
            "marker": {
             "line": {
              "color": "#E5ECF6",
              "width": 0.5
             },
             "pattern": {
              "fillmode": "overlay",
              "size": 10,
              "solidity": 0.2
             }
            },
            "type": "barpolar"
           }
          ],
          "carpet": [
           {
            "aaxis": {
             "endlinecolor": "#2a3f5f",
             "gridcolor": "white",
             "linecolor": "white",
             "minorgridcolor": "white",
             "startlinecolor": "#2a3f5f"
            },
            "baxis": {
             "endlinecolor": "#2a3f5f",
             "gridcolor": "white",
             "linecolor": "white",
             "minorgridcolor": "white",
             "startlinecolor": "#2a3f5f"
            },
            "type": "carpet"
           }
          ],
          "choropleth": [
           {
            "colorbar": {
             "outlinewidth": 0,
             "ticks": ""
            },
            "type": "choropleth"
           }
          ],
          "contour": [
           {
            "colorbar": {
             "outlinewidth": 0,
             "ticks": ""
            },
            "colorscale": [
             [
              0,
              "#0d0887"
             ],
             [
              0.1111111111111111,
              "#46039f"
             ],
             [
              0.2222222222222222,
              "#7201a8"
             ],
             [
              0.3333333333333333,
              "#9c179e"
             ],
             [
              0.4444444444444444,
              "#bd3786"
             ],
             [
              0.5555555555555556,
              "#d8576b"
             ],
             [
              0.6666666666666666,
              "#ed7953"
             ],
             [
              0.7777777777777778,
              "#fb9f3a"
             ],
             [
              0.8888888888888888,
              "#fdca26"
             ],
             [
              1,
              "#f0f921"
             ]
            ],
            "type": "contour"
           }
          ],
          "contourcarpet": [
           {
            "colorbar": {
             "outlinewidth": 0,
             "ticks": ""
            },
            "type": "contourcarpet"
           }
          ],
          "heatmap": [
           {
            "colorbar": {
             "outlinewidth": 0,
             "ticks": ""
            },
            "colorscale": [
             [
              0,
              "#0d0887"
             ],
             [
              0.1111111111111111,
              "#46039f"
             ],
             [
              0.2222222222222222,
              "#7201a8"
             ],
             [
              0.3333333333333333,
              "#9c179e"
             ],
             [
              0.4444444444444444,
              "#bd3786"
             ],
             [
              0.5555555555555556,
              "#d8576b"
             ],
             [
              0.6666666666666666,
              "#ed7953"
             ],
             [
              0.7777777777777778,
              "#fb9f3a"
             ],
             [
              0.8888888888888888,
              "#fdca26"
             ],
             [
              1,
              "#f0f921"
             ]
            ],
            "type": "heatmap"
           }
          ],
          "heatmapgl": [
           {
            "colorbar": {
             "outlinewidth": 0,
             "ticks": ""
            },
            "colorscale": [
             [
              0,
              "#0d0887"
             ],
             [
              0.1111111111111111,
              "#46039f"
             ],
             [
              0.2222222222222222,
              "#7201a8"
             ],
             [
              0.3333333333333333,
              "#9c179e"
             ],
             [
              0.4444444444444444,
              "#bd3786"
             ],
             [
              0.5555555555555556,
              "#d8576b"
             ],
             [
              0.6666666666666666,
              "#ed7953"
             ],
             [
              0.7777777777777778,
              "#fb9f3a"
             ],
             [
              0.8888888888888888,
              "#fdca26"
             ],
             [
              1,
              "#f0f921"
             ]
            ],
            "type": "heatmapgl"
           }
          ],
          "histogram": [
           {
            "marker": {
             "pattern": {
              "fillmode": "overlay",
              "size": 10,
              "solidity": 0.2
             }
            },
            "type": "histogram"
           }
          ],
          "histogram2d": [
           {
            "colorbar": {
             "outlinewidth": 0,
             "ticks": ""
            },
            "colorscale": [
             [
              0,
              "#0d0887"
             ],
             [
              0.1111111111111111,
              "#46039f"
             ],
             [
              0.2222222222222222,
              "#7201a8"
             ],
             [
              0.3333333333333333,
              "#9c179e"
             ],
             [
              0.4444444444444444,
              "#bd3786"
             ],
             [
              0.5555555555555556,
              "#d8576b"
             ],
             [
              0.6666666666666666,
              "#ed7953"
             ],
             [
              0.7777777777777778,
              "#fb9f3a"
             ],
             [
              0.8888888888888888,
              "#fdca26"
             ],
             [
              1,
              "#f0f921"
             ]
            ],
            "type": "histogram2d"
           }
          ],
          "histogram2dcontour": [
           {
            "colorbar": {
             "outlinewidth": 0,
             "ticks": ""
            },
            "colorscale": [
             [
              0,
              "#0d0887"
             ],
             [
              0.1111111111111111,
              "#46039f"
             ],
             [
              0.2222222222222222,
              "#7201a8"
             ],
             [
              0.3333333333333333,
              "#9c179e"
             ],
             [
              0.4444444444444444,
              "#bd3786"
             ],
             [
              0.5555555555555556,
              "#d8576b"
             ],
             [
              0.6666666666666666,
              "#ed7953"
             ],
             [
              0.7777777777777778,
              "#fb9f3a"
             ],
             [
              0.8888888888888888,
              "#fdca26"
             ],
             [
              1,
              "#f0f921"
             ]
            ],
            "type": "histogram2dcontour"
           }
          ],
          "mesh3d": [
           {
            "colorbar": {
             "outlinewidth": 0,
             "ticks": ""
            },
            "type": "mesh3d"
           }
          ],
          "parcoords": [
           {
            "line": {
             "colorbar": {
              "outlinewidth": 0,
              "ticks": ""
             }
            },
            "type": "parcoords"
           }
          ],
          "pie": [
           {
            "automargin": true,
            "type": "pie"
           }
          ],
          "scatter": [
           {
            "fillpattern": {
             "fillmode": "overlay",
             "size": 10,
             "solidity": 0.2
            },
            "type": "scatter"
           }
          ],
          "scatter3d": [
           {
            "line": {
             "colorbar": {
              "outlinewidth": 0,
              "ticks": ""
             }
            },
            "marker": {
             "colorbar": {
              "outlinewidth": 0,
              "ticks": ""
             }
            },
            "type": "scatter3d"
           }
          ],
          "scattercarpet": [
           {
            "marker": {
             "colorbar": {
              "outlinewidth": 0,
              "ticks": ""
             }
            },
            "type": "scattercarpet"
           }
          ],
          "scattergeo": [
           {
            "marker": {
             "colorbar": {
              "outlinewidth": 0,
              "ticks": ""
             }
            },
            "type": "scattergeo"
           }
          ],
          "scattergl": [
           {
            "marker": {
             "colorbar": {
              "outlinewidth": 0,
              "ticks": ""
             }
            },
            "type": "scattergl"
           }
          ],
          "scattermapbox": [
           {
            "marker": {
             "colorbar": {
              "outlinewidth": 0,
              "ticks": ""
             }
            },
            "type": "scattermapbox"
           }
          ],
          "scatterpolar": [
           {
            "marker": {
             "colorbar": {
              "outlinewidth": 0,
              "ticks": ""
             }
            },
            "type": "scatterpolar"
           }
          ],
          "scatterpolargl": [
           {
            "marker": {
             "colorbar": {
              "outlinewidth": 0,
              "ticks": ""
             }
            },
            "type": "scatterpolargl"
           }
          ],
          "scatterternary": [
           {
            "marker": {
             "colorbar": {
              "outlinewidth": 0,
              "ticks": ""
             }
            },
            "type": "scatterternary"
           }
          ],
          "surface": [
           {
            "colorbar": {
             "outlinewidth": 0,
             "ticks": ""
            },
            "colorscale": [
             [
              0,
              "#0d0887"
             ],
             [
              0.1111111111111111,
              "#46039f"
             ],
             [
              0.2222222222222222,
              "#7201a8"
             ],
             [
              0.3333333333333333,
              "#9c179e"
             ],
             [
              0.4444444444444444,
              "#bd3786"
             ],
             [
              0.5555555555555556,
              "#d8576b"
             ],
             [
              0.6666666666666666,
              "#ed7953"
             ],
             [
              0.7777777777777778,
              "#fb9f3a"
             ],
             [
              0.8888888888888888,
              "#fdca26"
             ],
             [
              1,
              "#f0f921"
             ]
            ],
            "type": "surface"
           }
          ],
          "table": [
           {
            "cells": {
             "fill": {
              "color": "#EBF0F8"
             },
             "line": {
              "color": "white"
             }
            },
            "header": {
             "fill": {
              "color": "#C8D4E3"
             },
             "line": {
              "color": "white"
             }
            },
            "type": "table"
           }
          ]
         },
         "layout": {
          "annotationdefaults": {
           "arrowcolor": "#2a3f5f",
           "arrowhead": 0,
           "arrowwidth": 1
          },
          "autotypenumbers": "strict",
          "coloraxis": {
           "colorbar": {
            "outlinewidth": 0,
            "ticks": ""
           }
          },
          "colorscale": {
           "diverging": [
            [
             0,
             "#8e0152"
            ],
            [
             0.1,
             "#c51b7d"
            ],
            [
             0.2,
             "#de77ae"
            ],
            [
             0.3,
             "#f1b6da"
            ],
            [
             0.4,
             "#fde0ef"
            ],
            [
             0.5,
             "#f7f7f7"
            ],
            [
             0.6,
             "#e6f5d0"
            ],
            [
             0.7,
             "#b8e186"
            ],
            [
             0.8,
             "#7fbc41"
            ],
            [
             0.9,
             "#4d9221"
            ],
            [
             1,
             "#276419"
            ]
           ],
           "sequential": [
            [
             0,
             "#0d0887"
            ],
            [
             0.1111111111111111,
             "#46039f"
            ],
            [
             0.2222222222222222,
             "#7201a8"
            ],
            [
             0.3333333333333333,
             "#9c179e"
            ],
            [
             0.4444444444444444,
             "#bd3786"
            ],
            [
             0.5555555555555556,
             "#d8576b"
            ],
            [
             0.6666666666666666,
             "#ed7953"
            ],
            [
             0.7777777777777778,
             "#fb9f3a"
            ],
            [
             0.8888888888888888,
             "#fdca26"
            ],
            [
             1,
             "#f0f921"
            ]
           ],
           "sequentialminus": [
            [
             0,
             "#0d0887"
            ],
            [
             0.1111111111111111,
             "#46039f"
            ],
            [
             0.2222222222222222,
             "#7201a8"
            ],
            [
             0.3333333333333333,
             "#9c179e"
            ],
            [
             0.4444444444444444,
             "#bd3786"
            ],
            [
             0.5555555555555556,
             "#d8576b"
            ],
            [
             0.6666666666666666,
             "#ed7953"
            ],
            [
             0.7777777777777778,
             "#fb9f3a"
            ],
            [
             0.8888888888888888,
             "#fdca26"
            ],
            [
             1,
             "#f0f921"
            ]
           ]
          },
          "colorway": [
           "#636efa",
           "#EF553B",
           "#00cc96",
           "#ab63fa",
           "#FFA15A",
           "#19d3f3",
           "#FF6692",
           "#B6E880",
           "#FF97FF",
           "#FECB52"
          ],
          "font": {
           "color": "#2a3f5f"
          },
          "geo": {
           "bgcolor": "white",
           "lakecolor": "white",
           "landcolor": "#E5ECF6",
           "showlakes": true,
           "showland": true,
           "subunitcolor": "white"
          },
          "hoverlabel": {
           "align": "left"
          },
          "hovermode": "closest",
          "mapbox": {
           "style": "light"
          },
          "paper_bgcolor": "white",
          "plot_bgcolor": "#E5ECF6",
          "polar": {
           "angularaxis": {
            "gridcolor": "white",
            "linecolor": "white",
            "ticks": ""
           },
           "bgcolor": "#E5ECF6",
           "radialaxis": {
            "gridcolor": "white",
            "linecolor": "white",
            "ticks": ""
           }
          },
          "scene": {
           "xaxis": {
            "backgroundcolor": "#E5ECF6",
            "gridcolor": "white",
            "gridwidth": 2,
            "linecolor": "white",
            "showbackground": true,
            "ticks": "",
            "zerolinecolor": "white"
           },
           "yaxis": {
            "backgroundcolor": "#E5ECF6",
            "gridcolor": "white",
            "gridwidth": 2,
            "linecolor": "white",
            "showbackground": true,
            "ticks": "",
            "zerolinecolor": "white"
           },
           "zaxis": {
            "backgroundcolor": "#E5ECF6",
            "gridcolor": "white",
            "gridwidth": 2,
            "linecolor": "white",
            "showbackground": true,
            "ticks": "",
            "zerolinecolor": "white"
           }
          },
          "shapedefaults": {
           "line": {
            "color": "#2a3f5f"
           }
          },
          "ternary": {
           "aaxis": {
            "gridcolor": "white",
            "linecolor": "white",
            "ticks": ""
           },
           "baxis": {
            "gridcolor": "white",
            "linecolor": "white",
            "ticks": ""
           },
           "bgcolor": "#E5ECF6",
           "caxis": {
            "gridcolor": "white",
            "linecolor": "white",
            "ticks": ""
           }
          },
          "title": {
           "x": 0.05
          },
          "xaxis": {
           "automargin": true,
           "gridcolor": "white",
           "linecolor": "white",
           "ticks": "",
           "title": {
            "standoff": 15
           },
           "zerolinecolor": "white",
           "zerolinewidth": 2
          },
          "yaxis": {
           "automargin": true,
           "gridcolor": "white",
           "linecolor": "white",
           "ticks": "",
           "title": {
            "standoff": 15
           },
           "zerolinecolor": "white",
           "zerolinewidth": 2
          }
         }
        }
       }
      }
     },
     "metadata": {},
     "output_type": "display_data"
    }
   ],
   "source": [
    "# Copy the DataFrame\n",
    "st_diag = st.copy()\n",
    "\n",
    "# Create a list of unique labels\n",
    "labels = list(pd.unique(st_diag[['source', 'target']].values.ravel('K')))\n",
    "\n",
    "# Create a mapping from label to index\n",
    "label_to_index = {label: i for i, label in enumerate(labels)}\n",
    "\n",
    "# Map source and target strings to their corresponding indices\n",
    "st_diag['source'] = st_diag['source'].map(label_to_index)\n",
    "st_diag['target'] = st_diag['target'].map(label_to_index)\n",
    "\n",
    "\n",
    "\n",
    "# Create a color mapping for the nodes\n",
    "node_colors = [\n",
    "    color_dark if '*START*' in label else \n",
    "    color_contrast1 if '#' in label else \n",
    "    color_dark if '*END*' in label else \n",
    "    'lightgrey' if '(' in label else \n",
    "    color_03 \n",
    "    for label in labels\n",
    "]\n",
    "\n",
    "# Function to convert color to RGBA with opacity\n",
    "def color_to_rgba(color, opacity):\n",
    "    import matplotlib.colors as mcolors\n",
    "    if color in mcolors.CSS4_COLORS:\n",
    "        rgba = mcolors.to_rgba(mcolors.CSS4_COLORS[color])\n",
    "    else:\n",
    "        rgba = mcolors.to_rgba(color)\n",
    "    return f\"rgba({int(rgba[0]*255)}, {int(rgba[1]*255)}, {int(rgba[2]*255)}, {opacity})\"\n",
    "\n",
    "# Create a mapping from node index to color with 30% opacity\n",
    "node_index_to_color_rgba = {index: color_to_rgba(color, 0.6) for index, color in enumerate(node_colors)}\n",
    "\n",
    "# Map link colors based on the source node\n",
    "link_colors = st_diag['source'].map(node_index_to_color_rgba)\n",
    "\n",
    "# Create the Sankey diagram\n",
    "fig = go.Figure(data=[go.Sankey(\n",
    "    node=dict(\n",
    "        pad=15,\n",
    "        thickness=20,\n",
    "        line=dict(color=\"black\", width=0.5),\n",
    "        label=labels,\n",
    "        color=node_colors,\n",
    "        align='left'\n",
    "    ),\n",
    "    link=dict(\n",
    "        arrowlen=20,\n",
    "        source=st_diag['source'],\n",
    "        target=st_diag['target'],\n",
    "        value=st_diag['count'],\n",
    "        color=link_colors\n",
    "    )\n",
    ")])\n",
    "\n",
    "print(\"Movements of department \" + department_of_interest + \" with fall related injury level: severe\")\n",
    "\n",
    "fig.update_layout(font_size=10)\n",
    "\n",
    "fig.show(config=config)\n"
   ]
  }
 ],
 "metadata": {
  "kernelspec": {
   "display_name": "Python 3",
   "language": "python",
   "name": "python3"
  },
  "language_info": {
   "codemirror_mode": {
    "name": "ipython",
    "version": 3
   },
   "file_extension": ".py",
   "mimetype": "text/x-python",
   "name": "python",
   "nbconvert_exporter": "python",
   "pygments_lexer": "ipython3",
   "version": "3.12.2"
  }
 },
 "nbformat": 4,
 "nbformat_minor": 2
}
